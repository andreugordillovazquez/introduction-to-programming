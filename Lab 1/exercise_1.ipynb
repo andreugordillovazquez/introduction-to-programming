print("BREAKDOWN OF BILLS AND COINS")
d = int(input("Insert here the amount in euros (€): "))

